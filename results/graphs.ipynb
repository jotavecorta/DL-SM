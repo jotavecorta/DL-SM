{
 "cells": [
  {
   "cell_type": "markdown",
   "metadata": {},
   "source": [
    "# Resultados\n",
    "\n",
    "Vuelco algunos de los resultados obtenidos para el analisis de modelos de scattering en volumen utilizando autoencoders convolucionales."
   ]
  },
  {
   "cell_type": "markdown",
   "metadata": {},
   "source": [
    "Levantamos los datos en formato pkl."
   ]
  },
  {
   "cell_type": "code",
   "execution_count": 4,
   "metadata": {},
   "outputs": [],
   "source": [
    "import os\n",
    "import pickle\n",
    "\n",
    "rootdir = os.getcwd()\n",
    "files_paths = [paths for paths in os.listdir(rootdir) if paths.endswith('.pkl')]\n",
    "\n",
    "cost = {}\n",
    "for path in files_paths:\n",
    "    with open(path, 'rb') as f:\n",
    "       cost[' '.join(path.split('.')[0].split('_')[1:])] = pickle.load(f)"
   ]
  },
  {
   "cell_type": "code",
   "execution_count": 7,
   "metadata": {},
   "outputs": [
    {
     "name": "stdout",
     "output_type": "stream",
     "text": [
      "dict_keys(['SPM one layer', 'SSA two layer HH', 'SPM two layer', 'SSA two layer', 'SSA two layer ngi'])\n"
     ]
    }
   ],
   "source": [
    "print(cost.keys())"
   ]
  },
  {
   "cell_type": "code",
   "execution_count": 8,
   "metadata": {},
   "outputs": [
    {
     "data": {
      "text/plain": [
       "([0.03665603697299957,\n",
       "  0.021634314209222794,\n",
       "  0.013180684298276901,\n",
       "  0.010095690377056599,\n",
       "  0.01128428615629673,\n",
       "  0.009190922603011131,\n",
       "  0.00942604523152113,\n",
       "  0.00940657127648592,\n",
       "  0.008995677344501019,\n",
       "  0.008665479719638824,\n",
       "  0.010294579900801182,\n",
       "  0.009684483520686626,\n",
       "  0.009542539715766907,\n",
       "  0.008125667460262775,\n",
       "  0.009141607210040092],\n",
       " [0.04311709515750408,\n",
       "  0.022614443376660347,\n",
       "  0.013682493381202221,\n",
       "  0.010579785611480475,\n",
       "  0.012056873254477978,\n",
       "  0.009689809177070857,\n",
       "  0.01002441044896841,\n",
       "  0.010010681990534067,\n",
       "  0.009490956868976354,\n",
       "  0.009095454774796962,\n",
       "  0.010852090083062649,\n",
       "  0.010034623350948095,\n",
       "  0.010023066326975822,\n",
       "  0.008432842586189508,\n",
       "  0.009728261064738035])"
      ]
     },
     "execution_count": 8,
     "metadata": {},
     "output_type": "execute_result"
    }
   ],
   "source": [
    "cost['SPM one layer']['MAE']"
   ]
  },
  {
   "cell_type": "code",
   "execution_count": null,
   "metadata": {},
   "outputs": [],
   "source": []
  }
 ],
 "metadata": {
  "interpreter": {
   "hash": "f4f79008d837168bd48106ab85d9926a031ca3c278193226f692524af2f01691"
  },
  "kernelspec": {
   "display_name": "Python 3.8.10 64-bit ('tesis': venv)",
   "language": "python",
   "name": "python3"
  },
  "language_info": {
   "codemirror_mode": {
    "name": "ipython",
    "version": 3
   },
   "file_extension": ".py",
   "mimetype": "text/x-python",
   "name": "python",
   "nbconvert_exporter": "python",
   "pygments_lexer": "ipython3",
   "version": "3.8.10"
  },
  "orig_nbformat": 4
 },
 "nbformat": 4,
 "nbformat_minor": 2
}
